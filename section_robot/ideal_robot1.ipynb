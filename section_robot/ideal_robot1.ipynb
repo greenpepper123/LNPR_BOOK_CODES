{
 "cells": [
  {
   "cell_type": "code",
   "execution_count": 61,
   "metadata": {},
   "outputs": [],
   "source": [
    "import matplotlib\n",
    "matplotlib.use('nbagg')\n",
    "import matplotlib.animation as anm\n",
    "%matplotlib widget\n",
    "import matplotlib.pyplot as plt\n",
    "\n",
    "class World(object):\n",
    "    def __init__(self, debug=False):\n",
    "        self.objects = []\n",
    "        self.debug = debug\n",
    "    \n",
    "    def append(self, obj):\n",
    "        self.objects.append(obj)\n",
    "    \n",
    "    def draw(self):\n",
    "        fig = plt.figure(figsize=(4,4))\n",
    "        ax = fig.add_subplot(111)\n",
    "        ax.set_aspect('equal')\n",
    "        ax.set_xlim(-5, 5)\n",
    "        ax.set_ylim(-5, 5)\n",
    "        ax.set_xlabel('X', fontsize=20)\n",
    "        ax.set_ylabel('Y', fontsize=20)\n",
    "        \n",
    "        elems = []\n",
    "        \n",
    "        if self.debug:\n",
    "            for i in range(1000):\n",
    "                self.one_step(i, elems, ax)\n",
    "        else:\n",
    "            self.ani = anm.FuncAnimation(fig, self.one_step, fargs=(elems, ax), frames=50, interval=1000, repeat=False)\n",
    "            plt.show()\n",
    "\n",
    "    def one_step(self, i, elems, ax):\n",
    "        while elems:\n",
    "            elems.pop().remove()\n",
    "        elems.append(ax.text(-4.4, 4.5, \"t = \"+str(i), fontsize=10))\n",
    "        for obj in self.objects:\n",
    "            obj.draw(ax, elems)\n",
    "            if hasattr(obj, \"one_step\"):\n",
    "                obj.one_step(1.0)"
   ]
  },
  {
   "cell_type": "code",
   "execution_count": 40,
   "metadata": {},
   "outputs": [],
   "source": [
    "world = World()"
   ]
  },
  {
   "cell_type": "code",
   "execution_count": 41,
   "metadata": {},
   "outputs": [
    {
     "data": {
      "application/vnd.jupyter.widget-view+json": {
       "model_id": "3e735b584c37469e8e9637ab21596f67",
       "version_major": 2,
       "version_minor": 0
      },
      "text/plain": [
       "Canvas(toolbar=Toolbar(toolitems=[('Home', 'Reset original view', 'home', 'home'), ('Back', 'Back to previous …"
      ]
     },
     "metadata": {},
     "output_type": "display_data"
    }
   ],
   "source": [
    "world.draw()"
   ]
  },
  {
   "cell_type": "code",
   "execution_count": 42,
   "metadata": {},
   "outputs": [],
   "source": [
    "import numpy as np\n",
    "import math\n",
    "import matplotlib.patches as patches"
   ]
  },
  {
   "cell_type": "code",
   "execution_count": 54,
   "metadata": {},
   "outputs": [],
   "source": [
    "class IdealRobot(object):\n",
    "    def __init__(self, pose, agent=None, color='black'):\n",
    "        self.pose = pose\n",
    "        self.r = 0.2\n",
    "        self.agent = agent\n",
    "        self.color = color\n",
    "        self.poses = [pose]\n",
    "    \n",
    "    def draw(self, ax, elems):\n",
    "        x, y, theta = self.pose\n",
    "        xn = x + self.r*math.cos(theta)\n",
    "        yn = y + self.r*math.sin(theta)\n",
    "        elems += ax.plot([x, xn], [y, yn], color=self.color)\n",
    "        c = patches.Circle(xy = (x,y), radius=self.r, fill=False, color=self.color)\n",
    "        elems.append(ax.add_patch(c))\n",
    "        \n",
    "        self.poses.append(self.pose)\n",
    "        elems += ax.plot([e[0] for e in self.poses], [e[1] for e in self.poses], linewidth=0.5, color='black')\n",
    "    \n",
    "    def one_step(self, time_interval):\n",
    "        if not self.agent:\n",
    "            return\n",
    "        nu, omega = self.agent.decision()\n",
    "        self.pose = self.state_transition(nu, omega, time_interval, self.pose)\n",
    "    \n",
    "    @classmethod\n",
    "    def state_transition(cls, nu, omega, dt, pose):\n",
    "        theta = pose[2]\n",
    "        if math.fabs(omega) < 1e-5:\n",
    "            return pose + np.array([nu*math.cos(theta), nu*math.sin(theta), omega]) * dt\n",
    "        else:\n",
    "            return pose + np.array([nu/omega*(math.sin(theta+omega*dt)-math.sin(theta)), nu/omega*(-math.cos(theta+omega*dt)+math.cos(theta)), omega*dt])"
   ]
  },
  {
   "cell_type": "code",
   "execution_count": 49,
   "metadata": {},
   "outputs": [
    {
     "data": {
      "text/plain": [
       "array([0.5729578 , 0.5729578 , 1.57079633])"
      ]
     },
     "execution_count": 49,
     "metadata": {},
     "output_type": "execute_result"
    }
   ],
   "source": [
    "IdealRobot.state_transition(0.1, 0.0, 1.0, np.array([0,0,0]).T)\n",
    "IdealRobot.state_transition(0.1, 10.0/180.0*math.pi, 9.0, np.array([0,0,0]).T)"
   ]
  },
  {
   "cell_type": "code",
   "execution_count": 51,
   "metadata": {},
   "outputs": [],
   "source": [
    "class Agent(object):\n",
    "    def __init__(self, nu, omega):\n",
    "        self.nu = nu\n",
    "        self.omega = omega\n",
    "    \n",
    "    def decision(self, observation=None):\n",
    "        return self.nu, self.omega"
   ]
  },
  {
   "cell_type": "code",
   "execution_count": 62,
   "metadata": {},
   "outputs": [
    {
     "data": {
      "application/vnd.jupyter.widget-view+json": {
       "model_id": "69b53c2914cb4538b44429f5c9004fe0",
       "version_major": 2,
       "version_minor": 0
      },
      "text/plain": [
       "Canvas(toolbar=Toolbar(toolitems=[('Home', 'Reset original view', 'home', 'home'), ('Back', 'Back to previous …"
      ]
     },
     "metadata": {},
     "output_type": "display_data"
    }
   ],
   "source": [
    "world = World()\n",
    "lin = Agent(0.2, 0.0)\n",
    "ver = Agent(0.2, 10.0/180.0*math.pi)\n",
    "robot1 = IdealRobot(np.array([2,3,math.pi/6]).T, lin, 'green')\n",
    "robot2 = IdealRobot(np.array([-2,-1,math.pi/5*6]).T, ver, 'red')\n",
    "robot3 = IdealRobot(np.array([0,0,0]).T, color='blue')\n",
    "world.append(robot1)\n",
    "world.append(robot2)\n",
    "world.append(robot3)\n",
    "world.draw()"
   ]
  },
  {
   "cell_type": "code",
   "execution_count": null,
   "metadata": {},
   "outputs": [],
   "source": []
  }
 ],
 "metadata": {
  "kernelspec": {
   "display_name": "Python 3",
   "language": "python",
   "name": "python3"
  },
  "language_info": {
   "codemirror_mode": {
    "name": "ipython",
    "version": 3
   },
   "file_extension": ".py",
   "mimetype": "text/x-python",
   "name": "python",
   "nbconvert_exporter": "python",
   "pygments_lexer": "ipython3",
   "version": "3.8.2"
  }
 },
 "nbformat": 4,
 "nbformat_minor": 4
}
