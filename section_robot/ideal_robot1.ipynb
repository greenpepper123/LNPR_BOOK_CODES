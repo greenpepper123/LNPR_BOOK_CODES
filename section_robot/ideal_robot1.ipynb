{
 "cells": [
  {
   "cell_type": "code",
   "execution_count": 1,
   "metadata": {},
   "outputs": [],
   "source": [
    "import matplotlib\n",
    "matplotlib.use('nbagg')\n",
    "import matplotlib.animation as anm\n",
    "%matplotlib widget\n",
    "import matplotlib.pyplot as plt\n",
    "\n",
    "class World(object):\n",
    "    def __init__(self, time_span, time_interval, debug=False):\n",
    "        self.objects = []\n",
    "        self.time_span= time_span\n",
    "        self.time_interval= time_interval\n",
    "        self.debug = debug\n",
    "    \n",
    "    def append(self, obj):\n",
    "        self.objects.append(obj)\n",
    "    \n",
    "    def draw(self):\n",
    "        fig = plt.figure(figsize=(4,4))\n",
    "        ax = fig.add_subplot(111)\n",
    "        ax.set_aspect('equal')\n",
    "        ax.set_xlim(-5, 5)\n",
    "        ax.set_ylim(-5, 5)\n",
    "        ax.set_xlabel('X', fontsize=20)\n",
    "        ax.set_ylabel('Y', fontsize=20)\n",
    "        \n",
    "        elems = []\n",
    "        \n",
    "        if self.debug:\n",
    "            for i in range(1000):\n",
    "                self.one_step(i, elems, ax)\n",
    "        else:\n",
    "            self.ani = anm.FuncAnimation(fig, self.one_step, fargs=(elems, ax), frames=int(self.time_span/self.time_interval)+1, interval=int(self.time_interval*1000), repeat=False)\n",
    "            plt.show()\n",
    "\n",
    "    def one_step(self, i, elems, ax):\n",
    "        while elems:\n",
    "            elems.pop().remove()\n",
    "        time_str = \"t = {:.2f}[s]\".format(i*self.time_interval)\n",
    "        elems.append(ax.text(-4.4, 4.5, time_str, fontsize=10))\n",
    "        for obj in self.objects:\n",
    "            obj.draw(ax, elems)\n",
    "            if hasattr(obj, \"one_step\"):\n",
    "                obj.one_step(1.0)"
   ]
  },
  {
   "cell_type": "code",
   "execution_count": 2,
   "metadata": {},
   "outputs": [],
   "source": [
    "import numpy as np\n",
    "import math\n",
    "import matplotlib.patches as patches"
   ]
  },
  {
   "cell_type": "code",
   "execution_count": 47,
   "metadata": {},
   "outputs": [],
   "source": [
    "class IdealRobot(object):\n",
    "    def __init__(self, pose, agent=None, sensor=None, color='black'):\n",
    "        self.pose = pose\n",
    "        self.r = 0.2\n",
    "        self.agent = agent\n",
    "        self.color = color\n",
    "        self.poses = [pose]\n",
    "        self.sensor = sensor\n",
    "    \n",
    "    def draw(self, ax, elems):\n",
    "        x, y, theta = self.pose\n",
    "        xn = x + self.r*math.cos(theta)\n",
    "        yn = y + self.r*math.sin(theta)\n",
    "        elems += ax.plot([x, xn], [y, yn], color=self.color)\n",
    "        c = patches.Circle(xy = (x,y), radius=self.r, fill=False, color=self.color)\n",
    "        elems.append(ax.add_patch(c))\n",
    "        \n",
    "        self.poses.append(self.pose)\n",
    "        elems += ax.plot([e[0] for e in self.poses], [e[1] for e in self.poses], linewidth=0.5, color='black')\n",
    "        if self.sensor and len(self.poses) > 1:\n",
    "            self.sensor.draw(ax, elems, self.poses[-2])\n",
    "        if self.agent and hasattr(self.agent, \"draw\"):\n",
    "            self.agent.draw(ax, elems)\n",
    "    \n",
    "    def one_step(self, time_interval):\n",
    "        if not self.agent:\n",
    "            return\n",
    "        obs = self.sensor.data(self.pose) if self.sensor else None\n",
    "        nu, omega = self.agent.decision(obs)\n",
    "        self.pose = self.state_transition(nu, omega, time_interval, self.pose)\n",
    "    \n",
    "    @classmethod\n",
    "    def state_transition(cls, nu, omega, dt, pose):\n",
    "        theta = pose[2]\n",
    "        if math.fabs(omega) < 1e-5:\n",
    "            return pose + np.array([nu*math.cos(theta), nu*math.sin(theta), omega]) * dt\n",
    "        else:\n",
    "            return pose + np.array([nu/omega*(math.sin(theta+omega*dt)-math.sin(theta)), nu/omega*(-math.cos(theta+omega*dt)+math.cos(theta)), omega*dt])"
   ]
  },
  {
   "cell_type": "code",
   "execution_count": 4,
   "metadata": {},
   "outputs": [
    {
     "data": {
      "text/plain": [
       "array([0.5729578 , 0.5729578 , 1.57079633])"
      ]
     },
     "execution_count": 4,
     "metadata": {},
     "output_type": "execute_result"
    }
   ],
   "source": [
    "IdealRobot.state_transition(0.1, 0.0, 1.0, np.array([0,0,0]).T)\n",
    "IdealRobot.state_transition(0.1, 10.0/180.0*math.pi, 9.0, np.array([0,0,0]).T)"
   ]
  },
  {
   "cell_type": "code",
   "execution_count": 5,
   "metadata": {},
   "outputs": [],
   "source": [
    "class Agent(object):\n",
    "    def __init__(self, nu, omega):\n",
    "        self.nu = nu\n",
    "        self.omega = omega\n",
    "    \n",
    "    def decision(self, observation=None):\n",
    "        return self.nu, self.omega"
   ]
  },
  {
   "cell_type": "code",
   "execution_count": 6,
   "metadata": {},
   "outputs": [
    {
     "data": {
      "application/vnd.jupyter.widget-view+json": {
       "model_id": "ca13ccc10ef146f2aa658e2e12b7a69b",
       "version_major": 2,
       "version_minor": 0
      },
      "text/plain": [
       "Canvas(toolbar=Toolbar(toolitems=[('Home', 'Reset original view', 'home', 'home'), ('Back', 'Back to previous …"
      ]
     },
     "metadata": {},
     "output_type": "display_data"
    }
   ],
   "source": [
    "world = World(10, 0.1)\n",
    "lin = Agent(0.2, 0.0)\n",
    "ver = Agent(0.2, 10.0/180.0*math.pi)\n",
    "robot1 = IdealRobot(np.array([2,3,math.pi/6]).T, lin, 'green')\n",
    "robot2 = IdealRobot(np.array([-2,-1,math.pi/5*6]).T, ver, 'red')\n",
    "robot3 = IdealRobot(np.array([0,0,0]).T, color='blue')\n",
    "world.append(robot1)\n",
    "world.append(robot2)\n",
    "world.append(robot3)\n",
    "world.draw()"
   ]
  },
  {
   "cell_type": "code",
   "execution_count": 9,
   "metadata": {},
   "outputs": [],
   "source": [
    "class LandMark(object):\n",
    "    def __init__(self, x, y):\n",
    "        self.pos = np.array([x, y]).T\n",
    "        self.id = None\n",
    "    \n",
    "    def draw(self, ax, elems):\n",
    "        c = ax.scatter(self.pos[0], self.pos[1], s=100, marker=\"*\", label=\"landmarks\", color=\"orange\")\n",
    "        elems.append(c)\n",
    "        elems.append(ax.text(self.pos[0], self.pos[1], \"LM\"+str(self.id), fontsize=10))"
   ]
  },
  {
   "cell_type": "code",
   "execution_count": 10,
   "metadata": {},
   "outputs": [],
   "source": [
    "class Map(object):\n",
    "    def __init__(self):\n",
    "        self.landmarks = []\n",
    "    \n",
    "    def append_landmark(self, lm):\n",
    "        lm.id = len(self.landmarks)\n",
    "        self.landmarks.append(lm)\n",
    "    \n",
    "    def draw(self, ax, elems):\n",
    "        for l in self.landmarks:\n",
    "            l.draw(ax, elems)"
   ]
  },
  {
   "cell_type": "code",
   "execution_count": 19,
   "metadata": {},
   "outputs": [],
   "source": [
    "w = World(10, 0.1)\n",
    "m = Map()"
   ]
  },
  {
   "cell_type": "code",
   "execution_count": 20,
   "metadata": {},
   "outputs": [
    {
     "data": {
      "application/vnd.jupyter.widget-view+json": {
       "model_id": "5bca6b38611c49619b9370d0896e22fc",
       "version_major": 2,
       "version_minor": 0
      },
      "text/plain": [
       "Canvas(toolbar=Toolbar(toolitems=[('Home', 'Reset original view', 'home', 'home'), ('Back', 'Back to previous …"
      ]
     },
     "metadata": {},
     "output_type": "display_data"
    }
   ],
   "source": [
    "m.append_landmark(LandMark(2, -2))\n",
    "m.append_landmark(LandMark(-1, -3))\n",
    "m.append_landmark(LandMark(3, 3))\n",
    "w.append(robot1)\n",
    "w.append(robot2)\n",
    "w.append(robot3)\n",
    "w.append(m)\n",
    "w.draw()"
   ]
  },
  {
   "cell_type": "code",
   "execution_count": 61,
   "metadata": {},
   "outputs": [],
   "source": [
    "class IdealCamera(object):\n",
    "    def __init__(self, envmap, range_dist=(0.5, 6.0), range_dir=(-math.pi/3, math.pi/3)):\n",
    "        self.map = envmap\n",
    "        self.lastdata = []\n",
    "        self.range_dist = range_dist\n",
    "        self.range_dir = range_dir\n",
    "    \n",
    "    def data(self, cam_pose):\n",
    "        observed = []\n",
    "        for lm in self.map.landmarks:\n",
    "            ob = self.observe(cam_pose, lm.pos)\n",
    "            if self.visible(ob[0], ob[1]):\n",
    "                observed.append((ob, lm.id))\n",
    "        self.lastdata = observed\n",
    "        return observed\n",
    "    \n",
    "    def visible(self, dis, phi):\n",
    "        if not (self.range_dist[0] < dis < self.range_dist[1]):\n",
    "            return False\n",
    "        if not (self.range_dir[0] < phi < self.range_dir[1]):\n",
    "            return False\n",
    "        return True\n",
    "    \n",
    "    def draw(self, ax, elems, cam_pose):\n",
    "        for lm in self.lastdata:\n",
    "            x, y, theta = cam_pose\n",
    "            dis, dir = lm[0][0], lm[0][1]\n",
    "            lx = x + dis*math.cos(theta+dir)\n",
    "            ly = y + dis*math.sin(theta+dir)\n",
    "            elems += ax.plot([x, lx], [y, ly], color=\"pink\")\n",
    "    \n",
    "    @classmethod\n",
    "    def observe(self, cam_pose, obj_pos):\n",
    "        diff = obj_pos - cam_pose[0:2]\n",
    "        dis = np.linalg.norm(diff)\n",
    "        phi = math.atan2(diff[1], diff[0]) - cam_pose[2]\n",
    "        while phi >= np.pi:\n",
    "            phi -= 2*np.pi\n",
    "        while phi <= -np.pi:\n",
    "            phi += 2*np.pi\n",
    "        return np.array([dis, phi]).T"
   ]
  },
  {
   "cell_type": "code",
   "execution_count": 62,
   "metadata": {},
   "outputs": [],
   "source": [
    "cam = IdealCamera(m)"
   ]
  },
  {
   "cell_type": "code",
   "execution_count": 63,
   "metadata": {},
   "outputs": [
    {
     "name": "stdout",
     "output_type": "stream",
     "text": [
      "[]\n"
     ]
    }
   ],
   "source": [
    "p = cam.data(robot2.pose)\n",
    "print(p)"
   ]
  },
  {
   "cell_type": "code",
   "execution_count": 66,
   "metadata": {},
   "outputs": [
    {
     "data": {
      "application/vnd.jupyter.widget-view+json": {
       "model_id": "bd92d4131c05401c88ce7ac5ad6af13d",
       "version_major": 2,
       "version_minor": 0
      },
      "text/plain": [
       "Canvas(toolbar=Toolbar(toolitems=[('Home', 'Reset original view', 'home', 'home'), ('Back', 'Back to previous …"
      ]
     },
     "metadata": {},
     "output_type": "display_data"
    }
   ],
   "source": [
    "w = World(10, 0.1)\n",
    "m = Map()\n",
    "m.append_landmark(LandMark(2, -2))\n",
    "m.append_landmark(LandMark(-1, -3))\n",
    "m.append_landmark(LandMark(3, 3))\n",
    "lin = Agent(0.2, 0.0)\n",
    "ver = Agent(0.2, 10.0/180.0*math.pi)\n",
    "robot1 = IdealRobot(np.array([2,3,math.pi/6]).T, lin, IdealCamera(m), 'green')\n",
    "robot2 = IdealRobot(np.array([-2,-1,math.pi/5*6]).T, ver, IdealCamera(m), 'red')\n",
    "robot3 = IdealRobot(np.array([0,0,0]).T, color='blue')\n",
    "w.append(robot1)\n",
    "w.append(robot2)\n",
    "w.append(robot3)\n",
    "w.append(m)\n",
    "w.draw()"
   ]
  },
  {
   "cell_type": "code",
   "execution_count": null,
   "metadata": {},
   "outputs": [],
   "source": []
  }
 ],
 "metadata": {
  "kernelspec": {
   "display_name": "Python 3",
   "language": "python",
   "name": "python3"
  },
  "language_info": {
   "codemirror_mode": {
    "name": "ipython",
    "version": 3
   },
   "file_extension": ".py",
   "mimetype": "text/x-python",
   "name": "python",
   "nbconvert_exporter": "python",
   "pygments_lexer": "ipython3",
   "version": "3.8.2"
  }
 },
 "nbformat": 4,
 "nbformat_minor": 4
}
